{
  "nbformat": 4,
  "nbformat_minor": 0,
  "metadata": {
    "colab": {
      "name": "Trail1.ipynb",
      "provenance": [],
      "mount_file_id": "1JbmhaKvHEshU4bz_qkbloQDxtpfft0u2",
      "authorship_tag": "ABX9TyO2f7BLGxlSXl4+ZQfzuxHa",
      "include_colab_link": true
    },
    "kernelspec": {
      "display_name": "Python 3",
      "name": "python3"
    },
    "language_info": {
      "name": "python"
    }
  },
  "cells": [
    {
      "cell_type": "markdown",
      "metadata": {
        "id": "view-in-github",
        "colab_type": "text"
      },
      "source": [
        "<a href=\"https://colab.research.google.com/github/DrVenkataRajeshKumar/derbi/blob/main/Trail1.ipynb\" target=\"_parent\"><img src=\"https://colab.research.google.com/assets/colab-badge.svg\" alt=\"Open In Colab\"/></a>"
      ]
    },
    {
      "cell_type": "code",
      "metadata": {
        "id": "NrQu5KUTtGxD"
      },
      "source": [
        "import numpy as np\n",
        "import pandas as pd\n",
        "import seaborn as sns\n",
        "import matplotlib.pyplot as plt\n",
        "\n",
        "from keras.preprocessing.image import ImageDataGenerator\n",
        "from keras.applications.densenet import DenseNet121\n",
        "from keras.layers import Dense, GlobalAveragePooling2D\n",
        "from keras.models import Model\n",
        "from keras import backend as K\n",
        "\n",
        "from keras.models import load_model"
      ],
      "execution_count": null,
      "outputs": []
    },
    {
      "cell_type": "code",
      "metadata": {
        "id": "68CcGKeKtMLz"
      },
      "source": [
        "\n",
        "import random\n",
        "\n",
        "import cv2\n",
        "import matplotlib.pyplot as plt\n",
        "import numpy as np\n",
        "from keras import backend as K\n",
        "from keras.preprocessing import image\n",
        "from sklearn.metrics import roc_auc_score, roc_curve\n",
        "import tensorflow as tf\n",
        "from tensorflow.compat.v1.logging import INFO, set_verbosity\n",
        "\n",
        "random.seed(a=None, version=2)\n",
        "\n",
        "set_verbosity(INFO)\n",
        "\n",
        "\n",
        "def get_mean_std_per_batch(image_path, df, H=224, W=224):\n",
        "    sample_data = []\n",
        "    for idx, img in enumerate(df.sample(1000)[\"Image name\"].values):\n",
        "        # path = image_dir + img\n",
        "        sample_data.append(\n",
        "            np.array(image.load_img(image_path, target_size=(H, W))))\n",
        "\n",
        "    mean = np.mean(sample_data[0])\n",
        "    std = np.std(sample_data[0])\n",
        "    return mean, std\n",
        "\n",
        "\n",
        "def load_image(img, image_dir, df, preprocess=True, H=224, W=224):\n",
        "    \"\"\"Load and preprocess image.\"\"\"\n",
        "    img_path = image_dir + img\n",
        "    mean, std = get_mean_std_per_batch(img_path, df, H=H, W=W)\n",
        "    x = image.load_img(img_path, target_size=(H, W))\n",
        "    if preprocess:\n",
        "        x -= mean\n",
        "        x /= std\n",
        "        x = np.expand_dims(x, axis=0)\n",
        "    return x\n",
        "\n",
        "\n",
        "def grad_cam(input_model, image, cls, layer_name, H=170, W=350):\n",
        "    \"\"\"GradCAM method for visualizing input saliency.\"\"\"\n",
        "    \n",
        "    \n",
        "    y_c = input_model.output[0, cls]\n",
        "    conv_output = input_model.get_layer(layer_name).output\n",
        "    grads = K.gradients(y_c, conv_output)[0]\n",
        "\n",
        "    gradient_function = K.function([input_model.input], [conv_output, grads])\n",
        "\n",
        "    output, grads_val = gradient_function([image])\n",
        "    output, grads_val = output[0, :], grads_val[0, :, :, :]\n",
        "\n",
        "    weights = np.mean(grads_val, axis=(0, 1))\n",
        "    cam = np.dot(output, weights)\n",
        "\n",
        "    # Process CAM\n",
        "    cam = cv2.resize(cam, (W, H), cv2.INTER_LINEAR)\n",
        "    cam = np.maximum(cam, 0)\n",
        "    cam = cam / cam.max()\n",
        "    return cam\n",
        "\n",
        "\n",
        "def compute_gradcam(model, img, image_dir, df, labels, selected_labels,\n",
        "                    layer_name='bn'):\n",
        "    preprocessed_input = load_image(img, image_dir, df)\n",
        "    predictions = model.predict(preprocessed_input)\n",
        "\n",
        "    print(\"Loading original image\")\n",
        "    plt.figure(figsize=(15, 10))\n",
        "    plt.subplot(151)\n",
        "    plt.title(\"Original\")\n",
        "    plt.axis('off')\n",
        "    plt.imshow(load_image(img, image_dir, df, preprocess=False), cmap='gray')\n",
        "\n",
        "    j = 1\n",
        "    for i in range(len(labels)):\n",
        "        if labels[i] in selected_labels:\n",
        "            print(f\"Generating gradcam for class {labels[i]}\")\n",
        "            gradcam = grad_cam(model, preprocessed_input, i, layer_name)\n",
        "            plt.subplot(151 + j)\n",
        "            plt.title(f\"{labels[i]}: p={predictions[0][i]:.3f}\")\n",
        "            plt.axis('off')\n",
        "            plt.imshow(load_image(img, image_dir, df, preprocess=False),\n",
        "                       cmap='gray')\n",
        "            plt.imshow(gradcam, cmap='jet', alpha=min(0.5, predictions[0][i]))\n",
        "            j += 1\n",
        "\n",
        "\n",
        "def get_roc_curve(labels, predicted_vals, generator):\n",
        "    auc_roc_vals = []\n",
        "    for i in range(len(labels)):\n",
        "        try:\n",
        "            gt = generator.labels[:, i]\n",
        "            pred = predicted_vals[:, i]\n",
        "            auc_roc = roc_auc_score(gt, pred)\n",
        "            auc_roc_vals.append(auc_roc)\n",
        "            fpr_rf, tpr_rf, _ = roc_curve(gt, pred)\n",
        "            plt.figure(1, figsize=(10, 10))\n",
        "            plt.plot([0, 1], [0, 1], 'k--')\n",
        "            plt.plot(fpr_rf, tpr_rf,\n",
        "                     label=labels[i] + \" (\" + str(round(auc_roc, 3)) + \")\")\n",
        "            plt.xlabel('False positive rate')\n",
        "            plt.ylabel('True positive rate')\n",
        "            plt.title('ROC curve')\n",
        "            plt.legend(loc='best')\n",
        "        except:\n",
        "            print(\n",
        "                f\"Error in generating ROC curve for {labels[i]}. \"\n",
        "                f\"Dataset lacks enough examples.\"\n",
        "            )\n",
        "    plt.show()\n",
        "    return auc_roc_vals"
      ],
      "execution_count": null,
      "outputs": []
    },
    {
      "cell_type": "code",
      "metadata": {
        "colab": {
          "base_uri": "https://localhost:8080/"
        },
        "id": "nZxf7W3XtYTv",
        "outputId": "cc073d1a-d816-448d-b705-db69fe70a0ff"
      },
      "source": [
        "cd /content/drive/MyDrive/NIH_Dataset_Customised"
      ],
      "execution_count": null,
      "outputs": [
        {
          "output_type": "stream",
          "text": [
            "/content/drive/.shortcut-targets-by-id/1exon4Kx5Jy5_WEKja2MJqCCmLag-ht2L/NIH_Dataset_Customised\n"
          ],
          "name": "stdout"
        }
      ]
    },
    {
      "cell_type": "code",
      "metadata": {
        "colab": {
          "base_uri": "https://localhost:8080/"
        },
        "id": "JBQFPvJrt_lx",
        "outputId": "29dc6a6f-ba7e-4242-8cc0-e4a21d567439"
      },
      "source": [
        "ls"
      ],
      "execution_count": null,
      "outputs": [
        {
          "output_type": "stream",
          "text": [
            "densenet121_weights_tf_dim_ordering_tf_kernels_notop.h5  NIH_Valid.zip\n",
            "densenet.hdf5                                            pretrained_model.h5\n",
            "\u001b[0m\u001b[01;34mimages\u001b[0m/                                                  train_set.csv\n",
            "NIH_Valid.csv                                            val_set.csv\n"
          ],
          "name": "stdout"
        }
      ]
    },
    {
      "cell_type": "code",
      "metadata": {
        "colab": {
          "base_uri": "https://localhost:8080/",
          "height": 204
        },
        "id": "cBe02c1rvJ0w",
        "outputId": "3fca7dbd-878c-47a4-cf94-1778b6eecef0"
      },
      "source": [
        "\n",
        "train_df = pd.read_csv(\"train_set.csv\")\n",
        "valid_df = pd.read_csv(\"val_set.csv\")\n",
        "\n",
        "\n",
        "train_df['No Findings'] = pd.to_numeric(train_df['No Findings'], downcast='float')\n",
        "train_df['Pneumothorax'] = pd.to_numeric(train_df['Pneumothorax'], downcast='float')\n",
        "train_df['Pneumonia'] = pd.to_numeric(train_df['Pneumonia'], downcast='float')\n",
        "train_df['Edema'] = pd.to_numeric(train_df['Edema'], downcast='float')\n",
        "train_df['Effusion'] = pd.to_numeric(train_df['Effusion'], downcast='float')\n",
        "train_df['Emphysema'] = pd.to_numeric(train_df['Emphysema'], downcast='float')\n",
        "\n",
        "valid_df['No Findings'] = pd.to_numeric(valid_df['No Findings'], downcast='float')\n",
        "valid_df['Pneumothorax'] = pd.to_numeric(valid_df['Pneumothorax'], downcast='float')\n",
        "valid_df['Pneumonia'] = pd.to_numeric(valid_df['Pneumonia'], downcast='float')\n",
        "valid_df['Edema'] = pd.to_numeric(valid_df['Edema'], downcast='float')\n",
        "valid_df['Effusion'] = pd.to_numeric(valid_df['Effusion'], downcast='float')\n",
        "valid_df['Emphysema'] = pd.to_numeric(valid_df['Emphysema'], downcast='float')\n",
        "\n",
        "valid_df.head()"
      ],
      "execution_count": null,
      "outputs": [
        {
          "output_type": "execute_result",
          "data": {
            "text/html": [
              "<div>\n",
              "<style scoped>\n",
              "    .dataframe tbody tr th:only-of-type {\n",
              "        vertical-align: middle;\n",
              "    }\n",
              "\n",
              "    .dataframe tbody tr th {\n",
              "        vertical-align: top;\n",
              "    }\n",
              "\n",
              "    .dataframe thead th {\n",
              "        text-align: right;\n",
              "    }\n",
              "</style>\n",
              "<table border=\"1\" class=\"dataframe\">\n",
              "  <thead>\n",
              "    <tr style=\"text-align: right;\">\n",
              "      <th></th>\n",
              "      <th>Image Index</th>\n",
              "      <th>Patient ID</th>\n",
              "      <th>No Findings</th>\n",
              "      <th>Pneumothorax</th>\n",
              "      <th>Pneumonia</th>\n",
              "      <th>Edema</th>\n",
              "      <th>Effusion</th>\n",
              "      <th>Emphysema</th>\n",
              "    </tr>\n",
              "  </thead>\n",
              "  <tbody>\n",
              "    <tr>\n",
              "      <th>0</th>\n",
              "      <td>00000001_001.png</td>\n",
              "      <td>1</td>\n",
              "      <td>0.0</td>\n",
              "      <td>0.0</td>\n",
              "      <td>0.0</td>\n",
              "      <td>0.0</td>\n",
              "      <td>0.0</td>\n",
              "      <td>1.0</td>\n",
              "    </tr>\n",
              "    <tr>\n",
              "      <th>1</th>\n",
              "      <td>00000001_002.png</td>\n",
              "      <td>1</td>\n",
              "      <td>0.0</td>\n",
              "      <td>0.0</td>\n",
              "      <td>0.0</td>\n",
              "      <td>0.0</td>\n",
              "      <td>1.0</td>\n",
              "      <td>0.0</td>\n",
              "    </tr>\n",
              "    <tr>\n",
              "      <th>2</th>\n",
              "      <td>00000008_001.png</td>\n",
              "      <td>8</td>\n",
              "      <td>1.0</td>\n",
              "      <td>0.0</td>\n",
              "      <td>0.0</td>\n",
              "      <td>0.0</td>\n",
              "      <td>0.0</td>\n",
              "      <td>0.0</td>\n",
              "    </tr>\n",
              "    <tr>\n",
              "      <th>3</th>\n",
              "      <td>00000023_000.png</td>\n",
              "      <td>23</td>\n",
              "      <td>1.0</td>\n",
              "      <td>0.0</td>\n",
              "      <td>0.0</td>\n",
              "      <td>0.0</td>\n",
              "      <td>0.0</td>\n",
              "      <td>0.0</td>\n",
              "    </tr>\n",
              "    <tr>\n",
              "      <th>4</th>\n",
              "      <td>00000023_001.png</td>\n",
              "      <td>23</td>\n",
              "      <td>1.0</td>\n",
              "      <td>0.0</td>\n",
              "      <td>0.0</td>\n",
              "      <td>0.0</td>\n",
              "      <td>0.0</td>\n",
              "      <td>0.0</td>\n",
              "    </tr>\n",
              "  </tbody>\n",
              "</table>\n",
              "</div>"
            ],
            "text/plain": [
              "        Image Index  Patient ID  No Findings  ...  Edema  Effusion  Emphysema\n",
              "0  00000001_001.png           1          0.0  ...    0.0       0.0        1.0\n",
              "1  00000001_002.png           1          0.0  ...    0.0       1.0        0.0\n",
              "2  00000008_001.png           8          1.0  ...    0.0       0.0        0.0\n",
              "3  00000023_000.png          23          1.0  ...    0.0       0.0        0.0\n",
              "4  00000023_001.png          23          1.0  ...    0.0       0.0        0.0\n",
              "\n",
              "[5 rows x 8 columns]"
            ]
          },
          "metadata": {
            "tags": []
          },
          "execution_count": 6
        }
      ]
    },
    {
      "cell_type": "code",
      "metadata": {
        "id": "4t9xTUdFMob4"
      },
      "source": [
        "labels = ['No Findings',\n",
        "          'Pneumothorax', \n",
        "          'Pneumonia', \n",
        "          'Edema', \n",
        "          'Effusion',\n",
        "          'Emphysema' ]"
      ],
      "execution_count": null,
      "outputs": []
    },
    {
      "cell_type": "code",
      "metadata": {
        "id": "7mieQissNGl1"
      },
      "source": [
        "def check_for_leakage(df1, df2, patient_col):\n",
        "    \"\"\"\n",
        "    Return True if there any patients are in both df1 and df2.\n",
        "\n",
        "    Args:\n",
        "        df1 (dataframe): dataframe describing first dataset\n",
        "        df2 (dataframe): dataframe describing second dataset\n",
        "        patient_col (str): string name of column with patient IDs\n",
        "    \n",
        "    Returns:\n",
        "        leakage (bool): True if there is leakage, otherwise False\n",
        "    \"\"\"\n",
        "    \n",
        "\n",
        "\n",
        "    ### START CODE HERE (REPLACE INSTANCES OF 'None' with your code) ###\n",
        "    \n",
        "    df1_patients_unique = set(df1[patient_col].values)\n",
        "    df2_patients_unique = set(df2[patient_col].values)\n",
        "    \n",
        "    patients_in_both_groups = df1_patients_unique.intersection(df2_patients_unique)\n",
        "    \n",
        "\n",
        "    leakage = len(patients_in_both_groups) > 0\n",
        "\n",
        "    \n",
        "    \n",
        "\n",
        "\n",
        "    # leakage contains true if there is patient overlap, otherwise false.\n",
        "    #leakage = (patients_in_both_groups > 0) # boolean (true if there is at least 1 patient in both groups)\n",
        "    \n",
        "    ### END CODE HERE ###\n",
        "    \n",
        "    return leakage"
      ],
      "execution_count": null,
      "outputs": []
    },
    {
      "cell_type": "code",
      "metadata": {
        "colab": {
          "base_uri": "https://localhost:8080/"
        },
        "id": "iNe2qP5GNJIN",
        "outputId": "6fc98373-77ea-49a1-d8e5-38e19a0bba3b"
      },
      "source": [
        "print(\"leakage between train and test: {}\".format(check_for_leakage(train_df, valid_df, 'Patient ID')))"
      ],
      "execution_count": null,
      "outputs": [
        {
          "output_type": "stream",
          "text": [
            "leakage between train and test: False\n"
          ],
          "name": "stdout"
        }
      ]
    },
    {
      "cell_type": "code",
      "metadata": {
        "id": "rkRGb9djNYnw"
      },
      "source": [
        "def get_train_generator(df, image_dir, x_col, y_cols, shuffle=True, batch_size=8, seed=1, target_w = 224, target_h = 224):\n",
        "    \"\"\"\n",
        "    Return generator for training set, normalizing using batch\n",
        "    statistics.\n",
        "\n",
        "    Args:\n",
        "      train_df (dataframe): dataframe specifying training data.\n",
        "      image_dir (str): directory where image files are held.\n",
        "      x_col (str): name of column in df that holds filenames.\n",
        "      y_cols (list): list of strings that hold y labels for images.\n",
        "      batch_size (int): images per batch to be fed into model during training.\n",
        "      seed (int): random seed.\n",
        "      target_w (int): final width of input images.\n",
        "      target_h (int): final height of input images.\n",
        "    \n",
        "    Returns:\n",
        "        train_generator (DataFrameIterator): iterator over training set\n",
        "    \"\"\"        \n",
        "    print(\"getting train generator...\") \n",
        "    # normalize images\n",
        "    image_generator = ImageDataGenerator(\n",
        "        samplewise_center=True,\n",
        "        samplewise_std_normalization= True)\n",
        "    \n",
        "    # flow from directory with specified batch size\n",
        "    # and target image size\n",
        "    generator = image_generator.flow_from_dataframe(\n",
        "            dataframe=df,\n",
        "            directory=image_dir,\n",
        "            x_col=x_col,\n",
        "            y_col=y_cols,\n",
        "            class_mode=\"raw\",\n",
        "            batch_size=batch_size,\n",
        "            shuffle=shuffle,\n",
        "            seed=seed,\n",
        "            target_size=(target_w,target_h))\n",
        "    \n",
        "    return generator"
      ],
      "execution_count": null,
      "outputs": []
    },
    {
      "cell_type": "code",
      "metadata": {
        "id": "mC-nu8cFNt5f"
      },
      "source": [
        "def get_test_and_valid_generator(valid_df, test_df, train_df, image_dir, x_col, y_cols, sample_size=10, batch_size=8, seed=1, target_w = 224, target_h = 224):\n",
        "    \"\"\"\n",
        "    Return generator for validation set and test test set using \n",
        "    normalization statistics from training set.\n",
        "\n",
        "    Args:\n",
        "      valid_df (dataframe): dataframe specifying validation data.\n",
        "      test_df (dataframe): dataframe specifying test data.\n",
        "      train_df (dataframe): dataframe specifying training data.\n",
        "      image_dir (str): directory where image files are held.\n",
        "      x_col (str): name of column in df that holds filenames.\n",
        "      y_cols (list): list of strings that hold y labels for images.\n",
        "      sample_size (int): size of sample to use for normalization statistics.\n",
        "      batch_size (int): images per batch to be fed into model during training.\n",
        "      seed (int): random seed.\n",
        "      target_w (int): final width of input images.\n",
        "      target_h (int): final height of input images.\n",
        "    \n",
        "    Returns:\n",
        "        test_generator (DataFrameIterator) and valid_generator: iterators over test set and validation set respectively\n",
        "    \"\"\"\n",
        "    print(\"getting train and valid generators...\")\n",
        "    # get generator to sample dataset\n",
        "    raw_train_generator = ImageDataGenerator().flow_from_dataframe(\n",
        "        dataframe=train_df, \n",
        "        directory=IMAGE_DIR, \n",
        "        x_col=x_col, \n",
        "        y_col=labels, \n",
        "        class_mode=\"raw\", \n",
        "        batch_size=sample_size, \n",
        "        shuffle=True, \n",
        "        target_size=(target_w, target_h))\n",
        "    \n",
        "    # get data sample\n",
        "    batch = raw_train_generator.next()\n",
        "    data_sample = batch[0]\n",
        "\n",
        "    # use sample to fit mean and std for test set generator\n",
        "    image_generator = ImageDataGenerator(\n",
        "        featurewise_center=True,\n",
        "        featurewise_std_normalization= True)\n",
        "    \n",
        "    # fit generator to sample from training data\n",
        "    image_generator.fit(data_sample)\n",
        "\n",
        "    # get test generator\n",
        "    valid_generator = image_generator.flow_from_dataframe(\n",
        "            dataframe=valid_df,\n",
        "            directory=image_dir,\n",
        "            x_col=x_col,\n",
        "            y_col=y_cols,\n",
        "            class_mode=\"raw\",\n",
        "            batch_size=batch_size,\n",
        "            shuffle=False,\n",
        "            seed=seed,\n",
        "            target_size=(target_w,target_h))\n",
        "\n",
        "    test_generator = image_generator.flow_from_dataframe(\n",
        "            dataframe=test_df,\n",
        "            directory=image_dir,\n",
        "            x_col=x_col,\n",
        "            y_col=y_cols,\n",
        "            class_mode=\"raw\",\n",
        "            batch_size=batch_size,\n",
        "            shuffle=False,\n",
        "            seed=seed,\n",
        "            target_size=(target_w,target_h))\n",
        "    return valid_generator, test_generator"
      ],
      "execution_count": null,
      "outputs": []
    },
    {
      "cell_type": "code",
      "metadata": {
        "colab": {
          "background_save": true,
          "base_uri": "https://localhost:8080/"
        },
        "id": "fQWSrt_fN_8K",
        "outputId": "564071e4-088a-441c-a18f-39d8f33ec819"
      },
      "source": [
        "IMAGE_DIR = \"images\"\n",
        "train_generator = get_train_generator(train_df, IMAGE_DIR, \"Image Index\", labels)\n",
        "valid_generator, test_generator= get_test_and_valid_generator(valid_df, valid_df, train_df, IMAGE_DIR, \"Image Index\", labels)"
      ],
      "execution_count": null,
      "outputs": [
        {
          "output_type": "stream",
          "text": [
            "getting train generator...\n"
          ],
          "name": "stdout"
        },
        {
          "output_type": "stream",
          "text": [
            "/usr/local/lib/python3.7/dist-packages/keras_preprocessing/image/dataframe_iterator.py:282: UserWarning: Found 40559 invalid image filename(s) in x_col=\"Image Index\". These filename(s) will be ignored.\n",
            "  .format(n_invalid, x_col)\n"
          ],
          "name": "stderr"
        },
        {
          "output_type": "stream",
          "text": [
            "Found 17494 validated image filenames.\n",
            "getting train and valid generators...\n",
            "Found 17494 validated image filenames.\n"
          ],
          "name": "stdout"
        },
        {
          "output_type": "stream",
          "text": [
            "/usr/local/lib/python3.7/dist-packages/keras_preprocessing/image/dataframe_iterator.py:282: UserWarning: Found 16581 invalid image filename(s) in x_col=\"Image Index\". These filename(s) will be ignored.\n",
            "  .format(n_invalid, x_col)\n"
          ],
          "name": "stderr"
        },
        {
          "output_type": "stream",
          "text": [
            "Found 7386 validated image filenames.\n",
            "Found 7386 validated image filenames.\n"
          ],
          "name": "stdout"
        }
      ]
    },
    {
      "cell_type": "code",
      "metadata": {
        "colab": {
          "base_uri": "https://localhost:8080/",
          "height": 286
        },
        "id": "OoIXn4bmjwbH",
        "outputId": "26d79b8a-8e5c-4d95-bbe9-a750b60ce492"
      },
      "source": [
        "x, y = train_generator.__getitem__(0)\n",
        "plt.imshow(x[0]);"
      ],
      "execution_count": 13,
      "outputs": [
        {
          "output_type": "stream",
          "text": [
            "Clipping input data to the valid range for imshow with RGB data ([0..1] for floats or [0..255] for integers).\n"
          ],
          "name": "stderr"
        },
        {
          "output_type": "display_data",
          "data": {
            "image/png": "[encoded data removed]",
            "text/plain": [
              "<Figure size 432x288 with 1 Axes>"
            ]
          },
          "metadata": {
            "tags": [],
            "needs_background": "light"
          }
        }
      ]
    },
    {
      "cell_type": "code",
      "metadata": {
        "colab": {
          "base_uri": "https://localhost:8080/",
          "height": 344
        },
        "id": "kjlMKfIoj2Vh",
        "outputId": "af2bd7d1-ec12-4995-8748-92eb7a010bfb"
      },
      "source": [
        "plt.xticks(rotation=90)\n",
        "plt.bar(x=labels, height=np.mean(train_generator.labels, axis=0))\n",
        "plt.title(\"Frequency of Each Class\")\n",
        "plt.show()"
      ],
      "execution_count": 14,
      "outputs": [
        {
          "output_type": "display_data",
          "data": {
            "image/png": "[encoded data removed]",
            "text/plain": [
              "<Figure size 432x288 with 1 Axes>"
            ]
          },
          "metadata": {
            "tags": [],
            "needs_background": "light"
          }
        }
      ]
    },
    {
      "cell_type": "code",
      "metadata": {
        "id": "CUecJp5Pj8Pd"
      },
      "source": [
        "def compute_class_freqs(labels):\n",
        "    \"\"\"\n",
        "    Compute positive and negative frequences for each class.\n",
        "\n",
        "    Args:\n",
        "        labels (np.array): matrix of labels, size (num_examples, num_classes)\n",
        "    Returns:\n",
        "        positive_frequencies (np.array): array of positive frequences for each\n",
        "                                         class, size (num_classes)\n",
        "        negative_frequencies (np.array): array of negative frequences for each\n",
        "                                         class, size (num_classes)\n",
        "    \"\"\"\n",
        "    ### START CODE HERE (REPLACE INSTANCES OF 'None' with your code) ###\n",
        "    \n",
        "    # total number of patients (rows)\n",
        "    N = labels.shape[0]\n",
        "    \n",
        "    positive_frequencies =  np.sum(labels, axis=0) / N\n",
        "    negative_frequencies = np.sum(labels==0, axis=0) / N\n",
        "\n",
        "    ### END CODE HERE ###\n",
        "    return positive_frequencies, negative_frequencies"
      ],
      "execution_count": 16,
      "outputs": []
    },
    {
      "cell_type": "code",
      "metadata": {
        "colab": {
          "base_uri": "https://localhost:8080/"
        },
        "id": "UfQyO75ZkBgI",
        "outputId": "f14f0870-db1a-4ba0-fdae-f3be7e13853d"
      },
      "source": [
        "freq_pos, freq_neg = compute_class_freqs(train_generator.labels)\n",
        "freq_pos, freq_neg"
      ],
      "execution_count": 17,
      "outputs": [
        {
          "output_type": "execute_result",
          "data": {
            "text/plain": [
              "(array([0.73053616, 0.06585115, 0.01754887, 0.02795244, 0.16491368,\n",
              "        0.02978164], dtype=float32),\n",
              " array([0.26946382, 0.93414885, 0.98245113, 0.97204756, 0.83508632,\n",
              "        0.97021836]))"
            ]
          },
          "metadata": {
            "tags": []
          },
          "execution_count": 17
        }
      ]
    },
    {
      "cell_type": "code",
      "metadata": {
        "colab": {
          "base_uri": "https://localhost:8080/",
          "height": 342
        },
        "id": "1mBQGH13kFLy",
        "outputId": "ea14162d-d439-4253-a12d-3163053add5b"
      },
      "source": [
        "data = pd.DataFrame({\"Class\": labels, \"Label\": \"Positive\", \"Value\": freq_pos})\n",
        "data = data.append([{\"Class\": labels[l], \"Label\": \"Negative\", \"Value\": v} for l,v in enumerate(freq_neg)], ignore_index=True)\n",
        "plt.xticks(rotation=90)\n",
        "f = sns.barplot(x=\"Class\", y=\"Value\", hue=\"Label\" ,data=data)"
      ],
      "execution_count": 18,
      "outputs": [
        {
          "output_type": "display_data",
          "data": {
            "image/png": "[encoded data removed]",
            "text/plain": [
              "<Figure size 432x288 with 1 Axes>"
            ]
          },
          "metadata": {
            "tags": [],
            "needs_background": "light"
          }
        }
      ]
    },
    {
      "cell_type": "code",
      "metadata": {
        "id": "qCQ5BzIDkJVp"
      },
      "source": [
        "pos_weights = freq_neg\n",
        "neg_weights = freq_pos\n",
        "pos_contribution = freq_pos * pos_weights \n",
        "neg_contribution = freq_neg * neg_weights"
      ],
      "execution_count": 19,
      "outputs": []
    },
    {
      "cell_type": "code",
      "metadata": {
        "colab": {
          "base_uri": "https://localhost:8080/",
          "height": 342
        },
        "id": "Oam3Lzj9kNXT",
        "outputId": "ea469679-734c-4b57-e717-5f4499c06287"
      },
      "source": [
        "data = pd.DataFrame({\"Class\": labels, \"Label\": \"Positive\", \"Value\": pos_contribution})\n",
        "data = data.append([{\"Class\": labels[l], \"Label\": \"Negative\", \"Value\": v} \n",
        "                        for l,v in enumerate(neg_contribution)], ignore_index=True)\n",
        "plt.xticks(rotation=90)\n",
        "sns.barplot(x=\"Class\", y=\"Value\", hue=\"Label\" ,data=data);"
      ],
      "execution_count": 20,
      "outputs": [
        {
          "output_type": "display_data",
          "data": {
            "image/png": "[encoded data removed]",
            "text/plain": [
              "<Figure size 432x288 with 1 Axes>"
            ]
          },
          "metadata": {
            "tags": [],
            "needs_background": "light"
          }
        }
      ]
    },
    {
      "cell_type": "code",
      "metadata": {
        "id": "eNL4BZ0YkRRS"
      },
      "source": [
        "def get_weighted_loss(pos_weights, neg_weights, epsilon=1e-7):\n",
        "    \"\"\"\n",
        "    Return weighted loss function given negative weights and positive weights.\n",
        "\n",
        "    Args:\n",
        "      pos_weights (np.array): array of positive weights for each class, size (num_classes)\n",
        "      neg_weights (np.array): array of negative weights for each class, size (num_classes)\n",
        "    \n",
        "    Returns:\n",
        "      weighted_loss (function): weighted loss function\n",
        "    \"\"\"\n",
        "    def weighted_loss(y_true, y_pred):\n",
        "        \"\"\"\n",
        "        Return weighted loss value. \n",
        "\n",
        "        Args:\n",
        "            y_true (Tensor): Tensor of true labels, size is (num_examples, num_classes)\n",
        "            y_pred (Tensor): Tensor of predicted labels, size is (num_examples, num_classes)\n",
        "        Returns:\n",
        "            loss (Float): overall scalar loss summed across all classes\n",
        "        \"\"\"\n",
        "        # initialize loss to zero\n",
        "        loss = 0.0\n",
        "        \n",
        "        ### START CODE HERE (REPLACE INSTANCES OF 'None' with your code) ###\n",
        "\n",
        "        for i in range(len(pos_weights)):\n",
        "            # for each class, add average weighted loss for that class \n",
        "            loss += -1*K.mean((pos_weights[i]* y_true[:, i]*K.log(y_pred[:, i]+ epsilon)+ neg_weights[i]*(1-y_true[:, i])*K.log(1-y_pred[:, i]+ epsilon)))\n",
        "            #complete this line\n",
        "        return loss\n",
        "    \n",
        "        ### END CODE HERE ###\n",
        "    return weighted_loss"
      ],
      "execution_count": 21,
      "outputs": []
    },
    {
      "cell_type": "code",
      "metadata": {
        "id": "E_WgpMT-kWdW"
      },
      "source": [
        "base_model = DenseNet121(weights='densenet121_weights_tf_dim_ordering_tf_kernels_notop.h5', include_top=False)\n",
        "\n",
        "x = base_model.output\n",
        "\n",
        "# add a global spatial average pooling layer\n",
        "x = GlobalAveragePooling2D()(x)\n",
        "\n",
        "# and a logistic layer\n",
        "predictions = Dense(len(labels), activation=\"sigmoid\")(x)\n",
        "\n",
        "model = Model(inputs=base_model.input, outputs=predictions)\n",
        "model.compile(optimizer='adam', loss=get_weighted_loss(pos_weights, neg_weights))"
      ],
      "execution_count": 22,
      "outputs": []
    },
    {
      "cell_type": "code",
      "metadata": {
        "colab": {
          "base_uri": "https://localhost:8080/",
          "height": 975
        },
        "id": "jOBVkV2VkcRl",
        "outputId": "a236176c-765b-42d6-87bc-1be62417402f"
      },
      "source": [
        "\n",
        "\n",
        "history = model.fit(train_generator, \n",
        "                              validation_data=valid_generator,\n",
        "                              steps_per_epoch=100, \n",
        "                              validation_steps=25, \n",
        "                              epochs = 20)\n",
        "\n",
        "plt.plot(history.history['loss'])\n",
        "plt.ylabel(\"loss\")\n",
        "plt.xlabel(\"epoch\")\n",
        "plt.title(\"Training Loss Curve\")\n",
        "plt.show()"
      ],
      "execution_count": 23,
      "outputs": [
        {
          "output_type": "stream",
          "text": [
            "Epoch 1/20\n",
            "100/100 [==============================] - 691s 6s/step - loss: 0.7454 - val_loss: 7.1175\n",
            "Epoch 2/20\n",
            "100/100 [==============================] - 613s 6s/step - loss: 0.6156 - val_loss: 4.2553\n",
            "Epoch 3/20\n",
            "100/100 [==============================] - 616s 6s/step - loss: 0.6058 - val_loss: 0.9799\n",
            "Epoch 4/20\n",
            "100/100 [==============================] - 617s 6s/step - loss: 0.6024 - val_loss: 1.1166\n",
            "Epoch 5/20\n",
            "100/100 [==============================] - 615s 6s/step - loss: 0.6311 - val_loss: 2.1303\n",
            "Epoch 6/20\n",
            "100/100 [==============================] - 630s 6s/step - loss: 0.6566 - val_loss: 3.3828\n",
            "Epoch 7/20\n",
            "100/100 [==============================] - 652s 7s/step - loss: 0.6422 - val_loss: 0.8832\n",
            "Epoch 8/20\n",
            "100/100 [==============================] - 682s 7s/step - loss: 0.5713 - val_loss: 0.8329\n",
            "Epoch 9/20\n",
            "100/100 [==============================] - 681s 7s/step - loss: 0.5390 - val_loss: 1.0624\n",
            "Epoch 10/20\n",
            "100/100 [==============================] - 636s 6s/step - loss: 0.5940 - val_loss: 2.7406\n",
            "Epoch 11/20\n",
            "100/100 [==============================] - 610s 6s/step - loss: 0.6074 - val_loss: 1.5961\n",
            "Epoch 12/20\n",
            "100/100 [==============================] - 631s 6s/step - loss: 0.5395 - val_loss: 0.9658\n",
            "Epoch 13/20\n",
            "100/100 [==============================] - 648s 6s/step - loss: 0.5389 - val_loss: 0.7688\n",
            "Epoch 14/20\n",
            "100/100 [==============================] - 629s 6s/step - loss: 0.6280 - val_loss: 0.6154\n",
            "Epoch 15/20\n",
            "100/100 [==============================] - 594s 6s/step - loss: 0.5478 - val_loss: 1.0305\n",
            "Epoch 16/20\n",
            "100/100 [==============================] - 593s 6s/step - loss: 0.5870 - val_loss: 0.7166\n",
            "Epoch 17/20\n",
            "100/100 [==============================] - 589s 6s/step - loss: 0.5678 - val_loss: 0.6834\n",
            "Epoch 18/20\n",
            "100/100 [==============================] - 587s 6s/step - loss: 0.5484 - val_loss: 1.3745\n",
            "Epoch 19/20\n",
            "100/100 [==============================] - 603s 6s/step - loss: 0.5995 - val_loss: 1.2946\n",
            "Epoch 20/20\n",
            "100/100 [==============================] - 632s 6s/step - loss: 0.5646 - val_loss: 1.4275\n"
          ],
          "name": "stdout"
        },
        {
          "output_type": "display_data",
          "data": {
            "image/png": "[encoded data removed]",
            "text/plain": [
              "<Figure size 432x288 with 1 Axes>"
            ]
          },
          "metadata": {
            "tags": [],
            "needs_background": "light"
          }
        }
      ]
    },
    {
      "cell_type": "code",
      "metadata": {
        "id": "RM4NbFwDy82t"
      },
      "source": [
        "model.save('/content/drive/MyDrive/NIH_Dataset_Customised/my_model.h5')"
      ],
      "execution_count": 28,
      "outputs": []
    },
    {
      "cell_type": "code",
      "metadata": {
        "id": "QmBpQXvPvb_g"
      },
      "source": [
        "predicted_vals = model.predict(test_generator, steps = len(test_generator))"
      ],
      "execution_count": 29,
      "outputs": []
    },
    {
      "cell_type": "code",
      "metadata": {
        "colab": {
          "base_uri": "https://localhost:8080/",
          "height": 621
        },
        "id": "c9fwulijvgYM",
        "outputId": "364194a7-6fda-4884-b993-6fc85b66be01"
      },
      "source": [
        "auc_rocs = get_roc_curve(labels, predicted_vals, test_generator)"
      ],
      "execution_count": 30,
      "outputs": [
        {
          "output_type": "display_data",
          "data": {
            "image/png": "[encoded data removed]",
            "text/plain": [
              "<Figure size 720x720 with 1 Axes>"
            ]
          },
          "metadata": {
            "tags": [],
            "needs_background": "light"
          }
        }
      ]
    },
    {
      "cell_type": "code",
      "metadata": {
        "id": "BHfD7xMXvlR5"
      },
      "source": [
        "df = pd.read_csv(\"train_set.csv\")\n",
        "IMAGE_DIR = \"images/\"\n",
        "\n",
        "# only show the labels with top 4 AUC\n",
        "labels_to_show = np.take(labels, np.argsort(auc_rocs)[::-1])[:4]"
      ],
      "execution_count": 31,
      "outputs": []
    },
    {
      "cell_type": "code",
      "metadata": {
        "id": "BC6mcIU7vr-U"
      },
      "source": [
        "compute_gradcam(model, \"00000023_000.png\", IMAGE_DIR, df, labels, labels_to_show)"
      ],
      "execution_count": null,
      "outputs": []
    }
  ]
}